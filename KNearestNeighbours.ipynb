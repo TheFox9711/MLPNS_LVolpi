{
  "nbformat": 4,
  "nbformat_minor": 0,
  "metadata": {
    "colab": {
      "provenance": [],
      "authorship_tag": "ABX9TyP9A+k+JQB+7LEo3susdkhB",
      "include_colab_link": true
    },
    "kernelspec": {
      "name": "python3",
      "display_name": "Python 3"
    },
    "language_info": {
      "name": "python"
    }
  },
  "cells": [
    {
      "cell_type": "markdown",
      "metadata": {
        "id": "view-in-github",
        "colab_type": "text"
      },
      "source": [
        "<a href=\"https://colab.research.google.com/github/TheFox9711/MLPNS_LVolpi/blob/main/KNearestNeighbours.ipynb\" target=\"_parent\"><img src=\"https://colab.research.google.com/assets/colab-badge.svg\" alt=\"Open In Colab\"/></a>"
      ]
    },
    {
      "cell_type": "code",
      "execution_count": 1,
      "metadata": {
        "id": "N6k9YOks8DQz"
      },
      "outputs": [],
      "source": [
        "import numpy as np\n",
        "import pylab as pl\n",
        "import scipy\n",
        "from scipy.spatial.distance import cdist\n",
        "\n",
        "np.random.seed(166)"
      ]
    },
    {
      "cell_type": "code",
      "source": [
        "# Creiamo il feature space cioè lo spazio dei parametri conosciuti, con dati arbitrari\n",
        "data = np.random.randn(100, 2)\n",
        "\n",
        "# Assegniamo un label a ogni dato\n",
        "labels = np.random.randint(0, 2, 100)\n",
        "labels"
      ],
      "metadata": {
        "colab": {
          "base_uri": "https://localhost:8080/"
        },
        "id": "2pMXaRS-8GYG",
        "outputId": "7564b722-b5e7-417d-b247-98c468a291d2"
      },
      "execution_count": 2,
      "outputs": [
        {
          "output_type": "execute_result",
          "data": {
            "text/plain": [
              "array([1, 1, 0, 1, 0, 0, 1, 1, 1, 1, 0, 1, 1, 1, 0, 1, 1, 0, 0, 1, 0, 0,\n",
              "       0, 0, 0, 0, 0, 0, 1, 1, 1, 0, 0, 0, 1, 0, 0, 1, 1, 1, 0, 1, 1, 0,\n",
              "       0, 1, 1, 0, 1, 1, 1, 0, 0, 1, 1, 0, 1, 0, 0, 0, 1, 0, 0, 0, 0, 0,\n",
              "       1, 1, 0, 0, 1, 0, 0, 0, 0, 0, 0, 0, 1, 0, 0, 1, 0, 1, 1, 0, 1, 1,\n",
              "       1, 1, 1, 0, 0, 1, 1, 1, 1, 0, 0, 1])"
            ]
          },
          "metadata": {},
          "execution_count": 2
        }
      ]
    },
    {
      "cell_type": "code",
      "source": [
        "ax = pl.figure(figsize=(4,4)).add_subplot(111)\n",
        "ax.axis('equal')\n",
        "\n",
        "ax.plot(data[:,0][labels == 0], data[:,1][labels == 0], 'o')\n",
        "ax.plot(data[:,0][labels == 1], data[:,1][labels == 1], 's')\n",
        "ax.set_xlabel('x')\n",
        "ax.set_ylabel('y');"
      ],
      "metadata": {
        "colab": {
          "base_uri": "https://localhost:8080/",
          "height": 388
        },
        "id": "4t8bN5vR8arW",
        "outputId": "e6d6b4b6-d858-4051-cf63-44b2cc898158"
      },
      "execution_count": 3,
      "outputs": [
        {
          "output_type": "display_data",
          "data": {
            "text/plain": [
              "<Figure size 400x400 with 1 Axes>"
            ],
            "image/png": "[encoded data removed]"
          },
          "metadata": {}
        }
      ]
    },
    {
      "cell_type": "code",
      "source": [
        "# Creiamo una particella di test e vediamo a cosa è più vicina\n",
        "testparticle = np.random.randn(2)\n",
        "testparticle"
      ],
      "metadata": {
        "colab": {
          "base_uri": "https://localhost:8080/"
        },
        "id": "co9WkJ_C81bj",
        "outputId": "bc1d714d-0a5b-4d10-b3c0-cba541b3692e"
      },
      "execution_count": 4,
      "outputs": [
        {
          "output_type": "execute_result",
          "data": {
            "text/plain": [
              "array([0.65074331, 0.72586895])"
            ]
          },
          "metadata": {},
          "execution_count": 4
        }
      ]
    },
    {
      "cell_type": "code",
      "source": [
        "ax = pl.figure(figsize=(4,4)).add_subplot(111)\n",
        "ax.axis('equal')\n",
        "\n",
        "ax.plot(data[:,0][labels == 0], data[:,1][labels == 0], 'o')\n",
        "ax.plot(data[:,0][labels == 1], data[:,1][labels == 1], 's')\n",
        "ax.plot(testparticle[0], testparticle[1], 'kx', ms=30, lw=3)\n",
        "ax.set_xlabel('x')\n",
        "ax.set_ylabel('y');"
      ],
      "metadata": {
        "colab": {
          "base_uri": "https://localhost:8080/",
          "height": 388
        },
        "id": "8YWe2lMl-Axu",
        "outputId": "c63c85bc-5b36-4f1c-b445-d742d050256e"
      },
      "execution_count": 5,
      "outputs": [
        {
          "output_type": "display_data",
          "data": {
            "text/plain": [
              "<Figure size 400x400 with 1 Axes>"
            ],
            "image/png": "[encoded data removed]"
          },
          "metadata": {}
        }
      ]
    },
    {
      "cell_type": "code",
      "source": [
        "# Calcoliamo la distanza della particella test da tutte le altre\n",
        "d = cdist(np.atleast_2d(testparticle), data)\n",
        "d"
      ],
      "metadata": {
        "colab": {
          "base_uri": "https://localhost:8080/"
        },
        "id": "KAZEdgSz-LwY",
        "outputId": "88422510-85fc-49e5-f91b-b73357a5c2ed"
      },
      "execution_count": 6,
      "outputs": [
        {
          "output_type": "execute_result",
          "data": {
            "text/plain": [
              "array([[1.28314783, 0.65485035, 0.95464291, 2.50145579, 1.83309111,\n",
              "        1.32635097, 1.30629767, 2.11404144, 0.14700769, 2.52619295,\n",
              "        1.77653379, 2.71248899, 3.12495632, 1.6510227 , 1.05602692,\n",
              "        0.6754323 , 2.18881337, 2.47244114, 0.42256109, 2.25416897,\n",
              "        1.72703948, 0.43668162, 1.91658903, 3.02353558, 0.89208358,\n",
              "        0.49453631, 1.79473071, 0.95459896, 1.16006302, 2.0478452 ,\n",
              "        0.97472344, 3.59454531, 1.94201068, 0.83063368, 1.41326386,\n",
              "        1.41817081, 0.99038919, 1.47233756, 1.9596676 , 2.59322707,\n",
              "        0.873539  , 3.70361541, 2.15145508, 2.22912726, 1.28837714,\n",
              "        0.17140356, 0.9119448 , 2.62545432, 2.28672514, 0.73661408,\n",
              "        0.42959467, 0.73241366, 1.64496339, 0.62609157, 1.2985717 ,\n",
              "        1.64096815, 0.59364989, 1.36705865, 1.96456744, 1.71269331,\n",
              "        1.67671083, 1.53884957, 1.96286713, 1.56925992, 3.77566324,\n",
              "        2.04869536, 1.078408  , 1.24361042, 1.07021739, 1.66467812,\n",
              "        1.10604985, 0.30659294, 2.78425654, 3.23705572, 0.76222644,\n",
              "        1.22827545, 1.04694   , 1.77071804, 0.63113638, 1.14162245,\n",
              "        2.41396258, 0.97293675, 2.13825985, 0.8918302 , 1.2044611 ,\n",
              "        0.56281417, 2.90746562, 1.14138583, 1.32334395, 1.38266014,\n",
              "        0.68874128, 1.03945145, 1.30747761, 1.21423578, 1.20140213,\n",
              "        0.95243684, 1.5934372 , 0.3178106 , 1.41868091, 0.71093558]])"
            ]
          },
          "metadata": {},
          "execution_count": 6
        }
      ]
    },
    {
      "cell_type": "code",
      "source": [
        "np.argmin(d)  # Indice particella più vicina"
      ],
      "metadata": {
        "colab": {
          "base_uri": "https://localhost:8080/"
        },
        "id": "rdppuz9P_Qct",
        "outputId": "0703fe3d-daaf-4246-c8f9-e2118dd9c3b4"
      },
      "execution_count": 7,
      "outputs": [
        {
          "output_type": "execute_result",
          "data": {
            "text/plain": [
              "8"
            ]
          },
          "metadata": {},
          "execution_count": 7
        }
      ]
    },
    {
      "cell_type": "code",
      "source": [
        "# Verifichiamo che tutto sia corretto:\n",
        "np.min(d), d[:, np.argmin(d)]"
      ],
      "metadata": {
        "colab": {
          "base_uri": "https://localhost:8080/"
        },
        "id": "NdHOuoF8_ZWL",
        "outputId": "afcea173-c736-4b35-b3c0-1f9f4ae61a83"
      },
      "execution_count": 9,
      "outputs": [
        {
          "output_type": "execute_result",
          "data": {
            "text/plain": [
              "(0.14700769103038863, array([0.14700769]))"
            ]
          },
          "metadata": {},
          "execution_count": 9
        }
      ]
    },
    {
      "cell_type": "code",
      "source": [
        "labeltest = labels[np.argmin(d)]"
      ],
      "metadata": {
        "id": "3ge9vU7y-lXJ"
      },
      "execution_count": 10,
      "outputs": []
    },
    {
      "cell_type": "code",
      "source": [
        "ax = pl.figure(figsize=(4,4)).add_subplot(111)\n",
        "ax.axis('equal')\n",
        "\n",
        "colors = ['blue', 'orange']\n",
        "ax.plot(data[:,0][labels == 0], data[:,1][labels == 0], 'o')\n",
        "ax.plot(data[:,0][labels == 1], data[:,1][labels == 1], 's')\n",
        "# Coloriamo la particella test in base al label del punto più vicino\n",
        "ax.plot(testparticle[0], testparticle[1], 'x', ms=30, lw=3, color=colors[labeltest])\n",
        "ax.set_xlabel('x')\n",
        "ax.set_ylabel('y');"
      ],
      "metadata": {
        "colab": {
          "base_uri": "https://localhost:8080/",
          "height": 388
        },
        "id": "JvYt70d8_iL0",
        "outputId": "8ef040a4-08a1-4394-b206-a29033893365"
      },
      "execution_count": 12,
      "outputs": [
        {
          "output_type": "display_data",
          "data": {
            "text/plain": [
              "<Figure size 400x400 with 1 Axes>"
            ],
            "image/png": "[encoded data removed]"
          },
          "metadata": {}
        }
      ]
    },
    {
      "cell_type": "code",
      "source": [
        "k = 5\n",
        "nns = data[np.argsort(d)][0][:k]  # Trovo i k oggetti più vicini\n",
        "nns"
      ],
      "metadata": {
        "colab": {
          "base_uri": "https://localhost:8080/"
        },
        "id": "c98qqE5g_4TD",
        "outputId": "234dfacc-2e11-44c6-a9ea-cf64b481737e"
      },
      "execution_count": 13,
      "outputs": [
        {
          "output_type": "execute_result",
          "data": {
            "text/plain": [
              "array([[0.50481266, 0.70810643],\n",
              "       [0.63401297, 0.89645405],\n",
              "       [0.62632665, 0.42024981],\n",
              "       [0.65715557, 1.04361485],\n",
              "       [1.00098637, 0.96227469]])"
            ]
          },
          "metadata": {},
          "execution_count": 13
        }
      ]
    },
    {
      "cell_type": "code",
      "source": [
        "nnslabel = labels[np.argsort(d)][0][:k]\n",
        "nnslabel"
      ],
      "metadata": {
        "colab": {
          "base_uri": "https://localhost:8080/"
        },
        "id": "raaUoVI4AWfJ",
        "outputId": "b8efa38d-8261-4ae9-8d68-fe8b336ee419"
      },
      "execution_count": 14,
      "outputs": [
        {
          "output_type": "execute_result",
          "data": {
            "text/plain": [
              "array([1, 1, 0, 0, 0])"
            ]
          },
          "metadata": {},
          "execution_count": 14
        }
      ]
    },
    {
      "cell_type": "code",
      "source": [
        "# Assegniamo alla particella test il label in base al numero maggiore di labels in nnslabel\n",
        "labeltest2 = 0 if (nnslabel == 0).sum() > (nnslabel == 1).sum() else 1"
      ],
      "metadata": {
        "id": "esXbBuO6Amye"
      },
      "execution_count": 15,
      "outputs": []
    },
    {
      "cell_type": "code",
      "source": [
        "ax = pl.figure(figsize=(4,4)).add_subplot(111)\n",
        "ax.axis('equal')\n",
        "\n",
        "colors = ['blue', 'orange']\n",
        "ax.plot(data[:,0][labels == 0], data[:,1][labels == 0], 'o')\n",
        "ax.plot(data[:,0][labels == 1], data[:,1][labels == 1], 's')\n",
        "ax.plot(testparticle[0], testparticle[1], 'x', ms=30, lw=3, color=colors[labeltest2])\n",
        "ax.plot(nns[:,0], nns[:,1], 'kx')\n",
        "ax.set_xlabel('x')\n",
        "ax.set_ylabel('y');"
      ],
      "metadata": {
        "colab": {
          "base_uri": "https://localhost:8080/",
          "height": 388
        },
        "id": "tfdJmYIyA36u",
        "outputId": "129526f3-db03-488f-8895-0fb421465c4d"
      },
      "execution_count": 17,
      "outputs": [
        {
          "output_type": "display_data",
          "data": {
            "text/plain": [
              "<Figure size 400x400 with 1 Axes>"
            ],
            "image/png": "[encoded data removed]"
          },
          "metadata": {}
        }
      ]
    },
    {
      "cell_type": "code",
      "source": [],
      "metadata": {
        "id": "Ib2loxSDxuk_"
      },
      "execution_count": null,
      "outputs": []
    }
  ]
}