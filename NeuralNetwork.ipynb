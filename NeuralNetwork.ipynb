{
  "nbformat": 4,
  "nbformat_minor": 0,
  "metadata": {
    "colab": {
      "provenance": [],
      "authorship_tag": "ABX9TyP7M2CnwNFE7DzOZBL4eOO1",
      "include_colab_link": true
    },
    "kernelspec": {
      "name": "python3",
      "display_name": "Python 3"
    },
    "language_info": {
      "name": "python"
    }
  },
  "cells": [
    {
      "cell_type": "markdown",
      "metadata": {
        "id": "view-in-github",
        "colab_type": "text"
      },
      "source": [
        "<a href=\"https://colab.research.google.com/github/TheFox9711/MLPNS_LVolpi/blob/main/NeuralNetwork.ipynb\" target=\"_parent\"><img src=\"https://colab.research.google.com/assets/colab-badge.svg\" alt=\"Open In Colab\"/></a>"
      ]
    },
    {
      "cell_type": "code",
      "execution_count": 1,
      "metadata": {
        "id": "TK39R7DoKU1j"
      },
      "outputs": [],
      "source": [
        "import numpy as np\n",
        "import pylab as pl"
      ]
    },
    {
      "cell_type": "code",
      "source": [
        "X = np.array(\n",
        "    [[0,0,1],\n",
        "     [1,1,1],\n",
        "     [1,0,1],\n",
        "     [0,1,1]])\n",
        "X"
      ],
      "metadata": {
        "colab": {
          "base_uri": "https://localhost:8080/"
        },
        "id": "4IAshIp6KYpZ",
        "outputId": "8473e002-dc45-407e-867e-2feef18b5598"
      },
      "execution_count": 2,
      "outputs": [
        {
          "output_type": "execute_result",
          "data": {
            "text/plain": [
              "array([[0, 0, 1],\n",
              "       [1, 1, 1],\n",
              "       [1, 0, 1],\n",
              "       [0, 1, 1]])"
            ]
          },
          "metadata": {},
          "execution_count": 2
        }
      ]
    },
    {
      "cell_type": "code",
      "source": [
        "pl.imshow(X)\n",
        "pl.axis('off');"
      ],
      "metadata": {
        "colab": {
          "base_uri": "https://localhost:8080/",
          "height": 406
        },
        "id": "6-aF1lPYK3sc",
        "outputId": "e6ff0c5e-5b7e-4751-f7cc-60c506818f61"
      },
      "execution_count": 3,
      "outputs": [
        {
          "output_type": "display_data",
          "data": {
            "text/plain": [
              "<Figure size 640x480 with 1 Axes>"
            ],
            "image/png": "[encoded data removed]"
          },
          "metadata": {}
        }
      ]
    },
    {
      "cell_type": "code",
      "source": [
        "y = np.array([[0,1,1,0]]).T\n",
        "y"
      ],
      "metadata": {
        "colab": {
          "base_uri": "https://localhost:8080/"
        },
        "id": "DbDjRRE2K9BO",
        "outputId": "cbd20e19-98d5-4871-e3ac-bd59a0941472"
      },
      "execution_count": 4,
      "outputs": [
        {
          "output_type": "execute_result",
          "data": {
            "text/plain": [
              "array([[0],\n",
              "       [1],\n",
              "       [1],\n",
              "       [0]])"
            ]
          },
          "metadata": {},
          "execution_count": 4
        }
      ]
    },
    {
      "cell_type": "markdown",
      "source": [
        "Vogliamo predire y sulla base di X."
      ],
      "metadata": {
        "id": "uITibdtKLfz4"
      }
    },
    {
      "cell_type": "markdown",
      "source": [
        "# basic architecture: 1 layer\n",
        "Ho:\n",
        "> 4 osservazioni\n",
        "\n",
        "> 3 neuroni\n",
        "\n",
        "> 1 layer"
      ],
      "metadata": {
        "id": "9lQ63guoLmgb"
      }
    },
    {
      "cell_type": "code",
      "source": [
        "# Funzione di attivazione:\n",
        "def sigmoid(x):\n",
        "    return 1. / (1. + np.exp(-x))"
      ],
      "metadata": {
        "id": "EK9S3juxLMcd"
      },
      "execution_count": 5,
      "outputs": []
    },
    {
      "cell_type": "code",
      "source": [
        "pl.plot(sigmoid(np.arange(-10, 10, 0.1)));"
      ],
      "metadata": {
        "colab": {
          "base_uri": "https://localhost:8080/",
          "height": 430
        },
        "id": "qEjFM0U7Ltnn",
        "outputId": "5b0fd4d0-074a-4b4f-ac7a-f79395987adc"
      },
      "execution_count": 6,
      "outputs": [
        {
          "output_type": "display_data",
          "data": {
            "text/plain": [
              "<Figure size 640x480 with 1 Axes>"
            ],
            "image/png": "[encoded data removed]"
          },
          "metadata": {}
        }
      ]
    },
    {
      "cell_type": "markdown",
      "source": [
        "Devo conoscere la derivata della funzione di attivazione:"
      ],
      "metadata": {
        "id": "Y3_iayzGNCFo"
      }
    },
    {
      "cell_type": "code",
      "source": [
        "def dsigmoid(s):\n",
        "    '''\n",
        "    Derivata della sigmoide, s è la sigmoide cioè:\n",
        "        d / dx (s) = s * (1 - s)\n",
        "    '''\n",
        "    return s * (1. - s)"
      ],
      "metadata": {
        "id": "LwMCEXIVNHK1"
      },
      "execution_count": 7,
      "outputs": []
    },
    {
      "cell_type": "code",
      "source": [
        "# Usiamo come loss function la L1\n",
        "def loss(prediction, target):\n",
        "    return target - prediction"
      ],
      "metadata": {
        "id": "fNEuRbryMU5g"
      },
      "execution_count": 8,
      "outputs": []
    },
    {
      "cell_type": "markdown",
      "source": [
        "# Neural network"
      ],
      "metadata": {
        "id": "OEAXQsiMMzgn"
      }
    },
    {
      "cell_type": "code",
      "source": [
        "np.random.seed(302)\n",
        "\n",
        "training = 6000\n",
        "\n",
        "# Creiamo l'unico layer\n",
        "# 4x3 3x1 = 4x1  (nel senso della moltiplicazione tra matrici)\n",
        "\n",
        "syn0 = 2 * np.random.random((3,1)) - 1\n",
        "syn0"
      ],
      "metadata": {
        "colab": {
          "base_uri": "https://localhost:8080/"
        },
        "id": "WiJXng2ENtKq",
        "outputId": "99b1b35e-98fc-4da5-92bc-21510d35fe47"
      },
      "execution_count": 18,
      "outputs": [
        {
          "output_type": "execute_result",
          "data": {
            "text/plain": [
              "array([[ 0.27256242],\n",
              "       [ 0.65008468],\n",
              "       [-0.31671053]])"
            ]
          },
          "metadata": {},
          "execution_count": 18
        }
      ]
    },
    {
      "cell_type": "code",
      "source": [
        "loss_output = []\n",
        "\n",
        "for iter in range(training):\n",
        "    inputLayers = X\n",
        "\n",
        "    # Forward propagation\n",
        "    l1 = np.dot(inputLayers, syn0)\n",
        "    output = sigmoid(l1)  # Mettiamo un bias = 0\n",
        "\n",
        "    output_error = loss(output, y)\n",
        "    loss_output.append(np.abs(output_error).sum())\n",
        "    output_delta = output_error * dsigmoid(output)\n",
        "\n",
        "    # Applichiamo la correzione\n",
        "    syn0 += np.dot(inputLayers.T, output_delta)"
      ],
      "metadata": {
        "colab": {
          "base_uri": "https://localhost:8080/"
        },
        "id": "xeSn0a9IN3eB",
        "outputId": "a2ecfa0b-52f8-4b18-ed19-88976cd08e87"
      },
      "execution_count": 19,
      "outputs": [
        {
          "output_type": "stream",
          "name": "stdout",
          "text": [
            "[[0.42147763]\n",
            " [0.64701332]\n",
            " [0.48896477]\n",
            " [0.58258013]]\n"
          ]
        }
      ]
    },
    {
      "cell_type": "code",
      "source": [
        "print('Output after training\\n', output)\n",
        "print('Output target\\n', y)"
      ],
      "metadata": {
        "colab": {
          "base_uri": "https://localhost:8080/"
        },
        "id": "vT9728HwO2vX",
        "outputId": "e8856c96-701c-4a0a-97d5-3a6e2a8899b6"
      },
      "execution_count": 11,
      "outputs": [
        {
          "output_type": "stream",
          "name": "stdout",
          "text": [
            "Output after training\n",
            " [[0.01254551]\n",
            " [0.98977455]\n",
            " [0.99169035]\n",
            " [0.0101995 ]]\n",
            "Output target\n",
            " [[0]\n",
            " [1]\n",
            " [1]\n",
            " [0]]\n"
          ]
        }
      ]
    },
    {
      "cell_type": "code",
      "source": [
        "pl.plot(loss_output, label='output')\n",
        "pl.legend()\n",
        "pl.xlabel('iteration (epoch)')\n",
        "pl.ylabel('global loss');"
      ],
      "metadata": {
        "colab": {
          "base_uri": "https://localhost:8080/",
          "height": 449
        },
        "id": "St2G7d8hQFHP",
        "outputId": "dac4e78e-d25b-4186-f5a0-57301d7599d8"
      },
      "execution_count": 14,
      "outputs": [
        {
          "output_type": "display_data",
          "data": {
            "text/plain": [
              "<Figure size 640x480 with 1 Axes>"
            ],
            "image/png": "[encoded data removed]"
          },
          "metadata": {}
        }
      ]
    },
    {
      "cell_type": "markdown",
      "source": [
        "Dal grafico capiamo che i neuroni smettono di imparare abbastanza rapidamente."
      ],
      "metadata": {
        "id": "YvJJxpxFQ22S"
      }
    },
    {
      "cell_type": "markdown",
      "source": [
        "# Second layer\n",
        "Creiamo un secondo layer nascosto, questo con 5 neuroni."
      ],
      "metadata": {
        "id": "FM16j9dUaNHA"
      }
    },
    {
      "cell_type": "code",
      "source": [
        "np.random.seed(302)\n",
        "\n",
        "training = 6000\n",
        "\n",
        "# Pesi input-layer1\n",
        "syn0 = 2 * np.random.random((3,5)) - 1\n",
        "# Pesi layer1-layer2\n",
        "syn1 = 2 * np.random.random((5,1)) - 1\n",
        "\n",
        "print(syn0)\n",
        "print(syn1)"
      ],
      "metadata": {
        "colab": {
          "base_uri": "https://localhost:8080/"
        },
        "id": "lCUxzNx4Qyt9",
        "outputId": "e6926da6-a332-41df-dd4e-e8585bdd4b68"
      },
      "execution_count": 37,
      "outputs": [
        {
          "output_type": "stream",
          "name": "stdout",
          "text": [
            "[[ 0.27256242  0.65008468 -0.31671053  0.47927851 -0.06168623]\n",
            " [ 0.08558127  0.09133313 -0.7367975  -0.69357809 -0.48670618]\n",
            " [-0.12373802 -0.92147466  0.52732938  0.65817185 -0.50538898]]\n",
            "[[-0.87028362]\n",
            " [-0.41574766]\n",
            " [ 0.02781874]\n",
            " [-0.38836983]\n",
            " [-0.74550884]]\n"
          ]
        }
      ]
    },
    {
      "cell_type": "code",
      "source": [
        "from matplotlib.widgets import Line2D\n",
        "loss_hidden = []\n",
        "loss_output = []\n",
        "\n",
        "for iter in range(training):\n",
        "    inputLayers = X\n",
        "\n",
        "    # Forward propagation\n",
        "    l1 = np.dot(inputLayers, syn0)\n",
        "    hidden = sigmoid(l1)  # Mettiamo un bias = 0\n",
        "\n",
        "    hidden_error = loss(hidden, y)\n",
        "    loss_hidden.append(np.abs(hidden_error).sum())\n",
        "    hidden_delta = hidden_error * dsigmoid(hidden)\n",
        "\n",
        "    # Applichiamo la correzione\n",
        "    syn0 += np.dot(inputLayers.T, hidden_delta)\n",
        "    \n",
        "    \n",
        "    # Passiamo al secondo layer\n",
        "    inputLayers = output\n",
        "\n",
        "    l2 = np.dot(hidden, syn1)\n",
        "    output = sigmoid(l2)  # Mettiamo un bias = 0\n",
        "\n",
        "    output_error = loss(output, y)\n",
        "    loss_output.append(np.abs(output_error).sum())\n",
        "    output_delta = output_error * dsigmoid(output)\n",
        "\n",
        "    syn1 += np.dot(hidden.T, output_delta)"
      ],
      "metadata": {
        "id": "xFYnQqi5bBit"
      },
      "execution_count": 39,
      "outputs": []
    },
    {
      "cell_type": "code",
      "source": [
        "print('Output after training\\n', output)\n",
        "print('Output target\\n', y)"
      ],
      "metadata": {
        "colab": {
          "base_uri": "https://localhost:8080/"
        },
        "id": "wkzjKcGvcWzO",
        "outputId": "7c4a0dd5-91da-45f9-f331-f1ac3a253472"
      },
      "execution_count": 40,
      "outputs": [
        {
          "output_type": "stream",
          "name": "stdout",
          "text": [
            "Output after training\n",
            " [[0.51014155]\n",
            " [0.96082976]\n",
            " [0.96106302]\n",
            " [0.50823912]]\n",
            "Output target\n",
            " [[0]\n",
            " [1]\n",
            " [1]\n",
            " [0]]\n"
          ]
        }
      ]
    },
    {
      "cell_type": "code",
      "source": [
        "pl.plot(loss_hidden, label='hidden')\n",
        "pl.plot(loss_output, label='output')\n",
        "pl.legend()\n",
        "pl.xlabel('iteration (epoch)')\n",
        "pl.ylabel('global loss');"
      ],
      "metadata": {
        "colab": {
          "base_uri": "https://localhost:8080/",
          "height": 449
        },
        "id": "DYIoFWYldS-N",
        "outputId": "cb8c6cd3-2d3c-481b-b7f6-df1cbb4b4df9"
      },
      "execution_count": 41,
      "outputs": [
        {
          "output_type": "display_data",
          "data": {
            "text/plain": [
              "<Figure size 640x480 with 1 Axes>"
            ],
            "image/png": "[encoded data removed]"
          },
          "metadata": {}
        }
      ]
    },
    {
      "cell_type": "markdown",
      "source": [
        "Il primo layer impara velocemente, il secondo no..."
      ],
      "metadata": {
        "id": "pqsPVXV7gbjZ"
      }
    },
    {
      "cell_type": "code",
      "source": [],
      "metadata": {
        "id": "pbpdnCPpdofW"
      },
      "execution_count": null,
      "outputs": []
    }
  ]
}