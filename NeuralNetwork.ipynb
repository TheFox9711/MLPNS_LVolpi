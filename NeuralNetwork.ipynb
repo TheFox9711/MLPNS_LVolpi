{
  "nbformat": 4,
  "nbformat_minor": 0,
  "metadata": {
    "colab": {
      "provenance": [],
      "authorship_tag": "ABX9TyMmYrwWK6VUR2imMb0Lelvf",
      "include_colab_link": true
    },
    "kernelspec": {
      "name": "python3",
      "display_name": "Python 3"
    },
    "language_info": {
      "name": "python"
    }
  },
  "cells": [
    {
      "cell_type": "markdown",
      "metadata": {
        "id": "view-in-github",
        "colab_type": "text"
      },
      "source": [
        "<a href=\"https://colab.research.google.com/github/TheFox9711/MLPNS_LVolpi/blob/main/NeuralNetwork.ipynb\" target=\"_parent\"><img src=\"https://colab.research.google.com/assets/colab-badge.svg\" alt=\"Open In Colab\"/></a>"
      ]
    },
    {
      "cell_type": "code",
      "execution_count": 1,
      "metadata": {
        "id": "TK39R7DoKU1j"
      },
      "outputs": [],
      "source": [
        "import numpy as np\n",
        "import pylab as pl"
      ]
    },
    {
      "cell_type": "code",
      "source": [
        "X = np.array(\n",
        "    [[0,0,1],\n",
        "     [1,1,1],\n",
        "     [1,0,1],\n",
        "     [0,1,1]])\n",
        "X"
      ],
      "metadata": {
        "colab": {
          "base_uri": "https://localhost:8080/"
        },
        "id": "4IAshIp6KYpZ",
        "outputId": "86409ec1-5fbc-44ce-e89d-38a183ef6d82"
      },
      "execution_count": 2,
      "outputs": [
        {
          "output_type": "execute_result",
          "data": {
            "text/plain": [
              "array([[0, 0, 1],\n",
              "       [1, 1, 1],\n",
              "       [1, 0, 1],\n",
              "       [0, 1, 1]])"
            ]
          },
          "metadata": {},
          "execution_count": 2
        }
      ]
    },
    {
      "cell_type": "code",
      "source": [
        "pl.imshow(X)\n",
        "pl.axis('off');"
      ],
      "metadata": {
        "colab": {
          "base_uri": "https://localhost:8080/",
          "height": 406
        },
        "id": "6-aF1lPYK3sc",
        "outputId": "011ff6b3-ae53-4037-eeb5-7de5a5bd63c6"
      },
      "execution_count": 3,
      "outputs": [
        {
          "output_type": "display_data",
          "data": {
            "text/plain": [
              "<Figure size 640x480 with 1 Axes>"
            ],
            "image/png": "[encoded data removed]"
          },
          "metadata": {}
        }
      ]
    },
    {
      "cell_type": "code",
      "source": [
        "y = np.array([[0,1,1,1]]).T\n",
        "y"
      ],
      "metadata": {
        "colab": {
          "base_uri": "https://localhost:8080/"
        },
        "id": "DbDjRRE2K9BO",
        "outputId": "505802e6-7dad-4058-c0a1-7b93e7505e47"
      },
      "execution_count": 4,
      "outputs": [
        {
          "output_type": "execute_result",
          "data": {
            "text/plain": [
              "array([[0],\n",
              "       [1],\n",
              "       [1],\n",
              "       [1]])"
            ]
          },
          "metadata": {},
          "execution_count": 4
        }
      ]
    },
    {
      "cell_type": "markdown",
      "source": [
        "Vogliamo predire y sulla base di X. Io ho:"
      ],
      "metadata": {
        "id": "uITibdtKLfz4"
      }
    },
    {
      "cell_type": "code",
      "source": [
        "'''\n",
        "    input   |   output\n",
        "    0 0 1   |      0\n",
        "    1 1 1   |      1\n",
        "    1 0 1   |      1\n",
        "    0 1 1   |      0\n",
        "''';"
      ],
      "metadata": {
        "id": "nVT-OgZ0G4-3"
      },
      "execution_count": 5,
      "outputs": []
    },
    {
      "cell_type": "markdown",
      "source": [
        "con i dati precedenti alleno la rete, poi dopo averlo fatto posso passare altri dati casuali e prevedere l'output."
      ],
      "metadata": {
        "id": "v2FOZatqHGu9"
      }
    },
    {
      "cell_type": "markdown",
      "source": [
        "# basic architecture: 1 layer\n",
        "Ho:\n",
        "> 4 osservazioni\n",
        "\n",
        "> 3 neuroni\n",
        "\n",
        "> 1 layer"
      ],
      "metadata": {
        "id": "9lQ63guoLmgb"
      }
    },
    {
      "cell_type": "code",
      "source": [
        "# Funzione di attivazione:\n",
        "def sigmoid(x):\n",
        "    return 1. / (1. + np.exp(-x))"
      ],
      "metadata": {
        "id": "EK9S3juxLMcd"
      },
      "execution_count": 6,
      "outputs": []
    },
    {
      "cell_type": "code",
      "source": [
        "pl.plot(np.arange(-10, 10, 0.1), sigmoid(np.arange(-10, 10, 0.1)));"
      ],
      "metadata": {
        "colab": {
          "base_uri": "https://localhost:8080/",
          "height": 430
        },
        "id": "qEjFM0U7Ltnn",
        "outputId": "b104cf7a-86b1-4411-f951-64e982f693c7"
      },
      "execution_count": 7,
      "outputs": [
        {
          "output_type": "display_data",
          "data": {
            "text/plain": [
              "<Figure size 640x480 with 1 Axes>"
            ],
            "image/png": "[encoded data removed]"
          },
          "metadata": {}
        }
      ]
    },
    {
      "cell_type": "markdown",
      "source": [
        "Devo conoscere la derivata della funzione di attivazione:"
      ],
      "metadata": {
        "id": "Y3_iayzGNCFo"
      }
    },
    {
      "cell_type": "code",
      "source": [
        "def dsigmoid(s):\n",
        "    '''\n",
        "    Derivata della sigmoide, s è la sigmoide cioè:\n",
        "        d / dx (s) = s * (1 - s)\n",
        "    '''\n",
        "    return s * (1. - s)"
      ],
      "metadata": {
        "id": "LwMCEXIVNHK1"
      },
      "execution_count": 8,
      "outputs": []
    },
    {
      "cell_type": "code",
      "source": [
        "# Usiamo come loss function la L1\n",
        "def loss(target, prediction):\n",
        "    return target - prediction"
      ],
      "metadata": {
        "id": "fNEuRbryMU5g"
      },
      "execution_count": 9,
      "outputs": []
    },
    {
      "cell_type": "markdown",
      "source": [
        "# Neural network"
      ],
      "metadata": {
        "id": "OEAXQsiMMzgn"
      }
    },
    {
      "cell_type": "code",
      "source": [
        "np.random.seed(302)\n",
        "\n",
        "training = 10**4\n",
        "\n",
        "# Creiamo l'unico layer\n",
        "# 4x3 3x1 = 4x1  (nel senso della moltiplicazione tra matrici)\n",
        "\n",
        "syn0 = 2 * np.random.random((3,1)) - 1\n",
        "syn0"
      ],
      "metadata": {
        "colab": {
          "base_uri": "https://localhost:8080/"
        },
        "id": "WiJXng2ENtKq",
        "outputId": "67d84aca-130a-42d3-c505-22d65a7d6981"
      },
      "execution_count": 10,
      "outputs": [
        {
          "output_type": "execute_result",
          "data": {
            "text/plain": [
              "array([[ 0.27256242],\n",
              "       [ 0.65008468],\n",
              "       [-0.31671053]])"
            ]
          },
          "metadata": {},
          "execution_count": 10
        }
      ]
    },
    {
      "cell_type": "code",
      "source": [
        "loss_output = []\n",
        "\n",
        "for iter in range(training):\n",
        "    inputLayer = X\n",
        "\n",
        "    # Forward propagation\n",
        "    l1 = np.dot(inputLayer, syn0)\n",
        "    output = sigmoid(l1)  # Mettiamo un bias = 0\n",
        "\n",
        "    output_error = loss(y, output)\n",
        "    loss_output.append(np.abs(output_error).sum())\n",
        "    output_delta = output_error * dsigmoid(output)\n",
        "\n",
        "    # Applichiamo la correzione\n",
        "    syn0 += np.dot(inputLayer.T, output_delta)"
      ],
      "metadata": {
        "id": "xeSn0a9IN3eB"
      },
      "execution_count": 11,
      "outputs": []
    },
    {
      "cell_type": "code",
      "source": [
        "print('Output after training\\n', output)\n",
        "print('Output target\\n', y)"
      ],
      "metadata": {
        "colab": {
          "base_uri": "https://localhost:8080/"
        },
        "id": "vT9728HwO2vX",
        "outputId": "e494471d-0fc5-4981-c094-30eae838bd02"
      },
      "execution_count": 12,
      "outputs": [
        {
          "output_type": "stream",
          "name": "stdout",
          "text": [
            "Output after training\n",
            " [[0.01627633]\n",
            " [0.99999822]\n",
            " [0.98974227]\n",
            " [0.98974228]]\n",
            "Output target\n",
            " [[0]\n",
            " [1]\n",
            " [1]\n",
            " [1]]\n"
          ]
        }
      ]
    },
    {
      "cell_type": "code",
      "source": [
        "pl.plot(loss_output, label='output')\n",
        "pl.legend()\n",
        "pl.xlabel('iteration (epoch)')\n",
        "pl.ylabel('global loss')\n",
        "pl.xscale('log');"
      ],
      "metadata": {
        "colab": {
          "base_uri": "https://localhost:8080/",
          "height": 454
        },
        "id": "St2G7d8hQFHP",
        "outputId": "9b199aa3-9dfb-4d0a-88e3-6931c91e239e"
      },
      "execution_count": 13,
      "outputs": [
        {
          "output_type": "display_data",
          "data": {
            "text/plain": [
              "<Figure size 640x480 with 1 Axes>"
            ],
            "image/png": "[encoded data removed]"
          },
          "metadata": {}
        }
      ]
    },
    {
      "cell_type": "markdown",
      "source": [
        "Dal grafico capiamo che i neuroni smettono di imparare abbastanza rapidamente."
      ],
      "metadata": {
        "id": "YvJJxpxFQ22S"
      }
    },
    {
      "cell_type": "markdown",
      "source": [
        "# Second layer\n",
        "Creiamo un secondo layer nascosto, questo con 5 neuroni."
      ],
      "metadata": {
        "id": "FM16j9dUaNHA"
      }
    },
    {
      "cell_type": "code",
      "source": [
        "np.random.seed(302)\n",
        "\n",
        "training = 10**4\n",
        "\n",
        "# Pesi input-layer1\n",
        "syn0 = 2 * np.random.random((3,5)) - 1\n",
        "# Pesi layer1-layer2\n",
        "syn1 = 2 * np.random.random((5,1)) - 1\n",
        "\n",
        "print(syn0)\n",
        "print(syn1)"
      ],
      "metadata": {
        "colab": {
          "base_uri": "https://localhost:8080/"
        },
        "id": "lCUxzNx4Qyt9",
        "outputId": "f0916a8a-0b6b-420e-a6e9-69b51484f49e"
      },
      "execution_count": 14,
      "outputs": [
        {
          "output_type": "stream",
          "name": "stdout",
          "text": [
            "[[ 0.27256242  0.65008468 -0.31671053  0.47927851 -0.06168623]\n",
            " [ 0.08558127  0.09133313 -0.7367975  -0.69357809 -0.48670618]\n",
            " [-0.12373802 -0.92147466  0.52732938  0.65817185 -0.50538898]]\n",
            "[[-0.87028362]\n",
            " [-0.41574766]\n",
            " [ 0.02781874]\n",
            " [-0.38836983]\n",
            " [-0.74550884]]\n"
          ]
        }
      ]
    },
    {
      "cell_type": "code",
      "source": [
        "loss_hidden = []\n",
        "loss_output = []\n",
        "\n",
        "for iter in range(training):\n",
        "    inputLayer = X\n",
        "\n",
        "    # Forward propagation\n",
        "    l1 = np.dot(inputLayer, syn0)\n",
        "    hidden = sigmoid(l1)  # Mettiamo un bias = 0\n",
        "\n",
        "    l2 = np.dot(hidden, syn1)\n",
        "    output = sigmoid(l2)\n",
        "\n",
        "    # Bacward propagation\n",
        "    output_error = loss(y, output)\n",
        "    loss_output.append(np.abs(output_error).sum())\n",
        "\n",
        "    output_delta = output_error * dsigmoid(output)\n",
        "\n",
        "    hidden_error = output_delta.dot(syn1.T)\n",
        "    loss_hidden.append(np.abs(hidden_error).sum())\n",
        "\n",
        "    hidden_delta = hidden_error * dsigmoid(hidden)\n",
        "\n",
        "    syn0 += np.dot(inputLayer.T, hidden_delta)\n",
        "    syn1 += np.dot(hidden.T, output_delta)"
      ],
      "metadata": {
        "id": "xFYnQqi5bBit"
      },
      "execution_count": 15,
      "outputs": []
    },
    {
      "cell_type": "code",
      "source": [
        "print('Output after training\\n', output)\n",
        "print('Output target\\n', y)"
      ],
      "metadata": {
        "colab": {
          "base_uri": "https://localhost:8080/"
        },
        "id": "wkzjKcGvcWzO",
        "outputId": "698d0172-f6e5-48c1-ff6c-1203591686c0"
      },
      "execution_count": 16,
      "outputs": [
        {
          "output_type": "stream",
          "name": "stdout",
          "text": [
            "Output after training\n",
            " [[0.0079365 ]\n",
            " [0.99940445]\n",
            " [0.99473947]\n",
            " [0.99456269]]\n",
            "Output target\n",
            " [[0]\n",
            " [1]\n",
            " [1]\n",
            " [1]]\n"
          ]
        }
      ]
    },
    {
      "cell_type": "code",
      "source": [
        "pl.plot(loss_hidden, label='hidden')\n",
        "pl.plot(loss_output, label='output')\n",
        "pl.legend()\n",
        "pl.xlabel('iteration (epoch)')\n",
        "pl.ylabel('global loss')\n",
        "pl.xscale('log')"
      ],
      "metadata": {
        "colab": {
          "base_uri": "https://localhost:8080/",
          "height": 454
        },
        "id": "DYIoFWYldS-N",
        "outputId": "57f1e779-99c9-4315-fb54-1e21805dc541"
      },
      "execution_count": 17,
      "outputs": [
        {
          "output_type": "display_data",
          "data": {
            "text/plain": [
              "<Figure size 640x480 with 1 Axes>"
            ],
            "image/png": "[encoded data removed]"
          },
          "metadata": {}
        }
      ]
    },
    {
      "cell_type": "code",
      "source": [
        "def test_NN(input):\n",
        "    l1 = np.dot(input, syn0)\n",
        "    hidden = sigmoid(l1)\n",
        "\n",
        "    l2 = np.dot(hidden, syn1)\n",
        "    output = sigmoid(l2)\n",
        "\n",
        "    return output"
      ],
      "metadata": {
        "id": "pbpdnCPpdofW"
      },
      "execution_count": 18,
      "outputs": []
    },
    {
      "cell_type": "code",
      "source": [
        "test_NN([0, 1, 0])"
      ],
      "metadata": {
        "colab": {
          "base_uri": "https://localhost:8080/"
        },
        "id": "bmQUZ_0RXGsT",
        "outputId": "249af4c4-12c2-4f42-8e2b-61b1a7e64fc4"
      },
      "execution_count": 19,
      "outputs": [
        {
          "output_type": "execute_result",
          "data": {
            "text/plain": [
              "array([0.99864603])"
            ]
          },
          "metadata": {},
          "execution_count": 19
        }
      ]
    },
    {
      "cell_type": "code",
      "source": [],
      "metadata": {
        "id": "9_4Y2R6OXUOa"
      },
      "execution_count": 19,
      "outputs": []
    }
  ]
}